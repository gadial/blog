{
 "cells": [
  {
   "cell_type": "code",
   "execution_count": 21,
   "metadata": {},
   "outputs": [
    {
     "name": "stdout",
     "output_type": "stream",
     "text": [
      "-69.0\n",
      "-68.99999999999996\n"
     ]
    }
   ],
   "source": [
    "import numpy as np\n",
    "\n",
    "def det(A):\n",
    "    result = 1\n",
    "    n = len(A)\n",
    "    # go over all columns k=0,1,...,n-1\n",
    "    for k in range(n):\n",
    "        if A[k][k] == 0:\n",
    "            for i in range(k+1, n):\n",
    "                if A[i][k] != 0:\n",
    "                    A[k], A[i] = A[i], A[k]\n",
    "                    result *= -1\n",
    "                    break\n",
    "            else:\n",
    "                return 0\n",
    "        # go over all rows i=k+1,k+2,...,n-1\n",
    "        result *= A[k][k]\n",
    "        for i in range(k+1, n):\n",
    "            factor = A[i][k] / A[k][k]\n",
    "            # go over all the nonzero elements in row i\n",
    "            for j in range(k, n):\n",
    "                A[i][j] -= factor * A[k][j]\n",
    "    return result\n",
    "\n",
    "A = [[2,8,3],[4,9,1],[3,3,3]]\n",
    "print(det(A))\n",
    "print(np.linalg.det(A))"
   ]
  },
  {
   "cell_type": "code",
   "execution_count": 17,
   "metadata": {},
   "outputs": [
    {
     "name": "stdout",
     "output_type": "stream",
     "text": [
      "[[2 8 3]\n",
      " [4 9 1]\n",
      " [3 3 3]]\n",
      "-68.99999999999996\n"
     ]
    }
   ],
   "source": [
    "print(A)\n",
    "print(np.linalg.det(A))"
   ]
  },
  {
   "cell_type": "code",
   "execution_count": null,
   "metadata": {},
   "outputs": [
    {
     "name": "stdout",
     "output_type": "stream",
     "text": [
      "0 [[9, 1], [3, 3]]\n",
      "0 [[3]]\n",
      "0 [[3]]\n",
      "0 [[3]]\n",
      "-72\n",
      "-68.99999999999996\n"
     ]
    }
   ],
   "source": [
    "def det(A):\n",
    "    n = len(A)\n",
    "    if n == 1:\n",
    "        return A[0][0]\n",
    "    for k in range(n):\n",
    "        minor_matrix = [[A[i][j] for j in range(n) if j != k] for i in range(1, n)]\n",
    "        return sum([(-1)**k * A[0][k] * det(minor_matrix) for k in range(n)])\n",
    "    \n",
    "#A = np.array([[1,2,3,1],[5,6,7,8],[9,15,11,12],[13,10,15,16]])\n",
    "A = [[2,8,3],[4,9,1],[3,3,3]]\n",
    "print(det(A))\n",
    "print(np.linalg.det(A))"
   ]
  },
  {
   "cell_type": "code",
   "execution_count": 3,
   "metadata": {},
   "outputs": [
    {
     "ename": "NameError",
     "evalue": "name 'np' is not defined",
     "output_type": "error",
     "traceback": [
      "\u001b[1;31m---------------------------------------------------------------------------\u001b[0m",
      "\u001b[1;31mNameError\u001b[0m                                 Traceback (most recent call last)",
      "Cell \u001b[1;32mIn[3], line 27\u001b[0m\n\u001b[0;32m     22\u001b[0m                 A[i][j] \u001b[38;5;241m-\u001b[39m\u001b[38;5;241m=\u001b[39m factor \u001b[38;5;241m*\u001b[39m A[k][j]\n\u001b[0;32m     23\u001b[0m     \u001b[38;5;28;01mreturn\u001b[39;00m result\n\u001b[1;32m---> 27\u001b[0m A \u001b[38;5;241m=\u001b[39m \u001b[43mnp\u001b[49m\u001b[38;5;241m.\u001b[39marray([[\u001b[38;5;241m1\u001b[39m,\u001b[38;5;241m2\u001b[39m,\u001b[38;5;241m3\u001b[39m,\u001b[38;5;241m1\u001b[39m],[\u001b[38;5;241m5\u001b[39m,\u001b[38;5;241m6\u001b[39m,\u001b[38;5;241m7\u001b[39m,\u001b[38;5;241m8\u001b[39m],[\u001b[38;5;241m9\u001b[39m,\u001b[38;5;241m15\u001b[39m,\u001b[38;5;241m11\u001b[39m,\u001b[38;5;241m12\u001b[39m],[\u001b[38;5;241m13\u001b[39m,\u001b[38;5;241m10\u001b[39m,\u001b[38;5;241m15\u001b[39m,\u001b[38;5;241m16\u001b[39m]])\n\u001b[0;32m     28\u001b[0m A \u001b[38;5;241m=\u001b[39m np\u001b[38;5;241m.\u001b[39marray([[\u001b[38;5;241m2\u001b[39m,\u001b[38;5;241m8\u001b[39m,\u001b[38;5;241m3\u001b[39m],[\u001b[38;5;241m4\u001b[39m,\u001b[38;5;241m9\u001b[39m,\u001b[38;5;241m1\u001b[39m],[\u001b[38;5;241m3\u001b[39m,\u001b[38;5;241m3\u001b[39m,\u001b[38;5;241m3\u001b[39m]])\n\u001b[0;32m     29\u001b[0m \u001b[38;5;28mprint\u001b[39m(det(A))\n",
      "\u001b[1;31mNameError\u001b[0m: name 'np' is not defined"
     ]
    }
   ],
   "source": [
    "A = [[1,2,3], [4,5,6], [7,8,9]]\n",
    "\n",
    "def det(A):\n",
    "    result = 1\n",
    "    n = len(A)\n",
    "    # go over all columns k=0,1,...,n-1\n",
    "    for k in range(n):\n",
    "        if A[k][k] == 0:\n",
    "            for i in range(k+1, n):\n",
    "                if A[i][k] != 0:\n",
    "                    A[k], A[i] = A[i], A[k]\n",
    "                    result *= -1\n",
    "                    break\n",
    "            else:\n",
    "                return 0\n",
    "        # go over all rows i=k+1,k+2,...,n-1\n",
    "        result *= A[k][k]\n",
    "        for i in range(k+1, n):\n",
    "            factor = A[i][k] / A[k][k]\n",
    "            # go over all the nonzero elements in row i\n",
    "            for j in range(k, n):\n",
    "                A[i][j] -= factor * A[k][j]\n",
    "    return result\n",
    "    \n",
    "\n",
    "\n",
    "A = np.array([[1,2,3,1],[5,6,7,8],[9,15,11,12],[13,10,15,16]])\n",
    "A = np.array([[2,8,3],[4,9,1],[3,3,3]])\n",
    "print(det(A))\n",
    "print(np.linalg.det(A))"
   ]
  },
  {
   "cell_type": "code",
   "execution_count": 28,
   "metadata": {},
   "outputs": [],
   "source": [
    "def minor(A, i,j):\n",
    "    B = []\n",
    "    for k in range(len(A)):\n",
    "        if k != i:\n",
    "            B.append([A[k][l] for l in range(len(A)) if l != j])\n",
    "    return B\n",
    "\n",
    "def det(A):\n",
    "    n = len(A)\n",
    "    if n == 1:\n",
    "        return A[0][0]\n",
    "    else:\n",
    "        sign = 1\n",
    "        detA = 0\n",
    "        for i in range(n):\n",
    "            B = minor(A, 0, i)\n",
    "            detA += sign*A[0][i]*det(B)\n",
    "            sign = -sign\n",
    "        return detA"
   ]
  },
  {
   "cell_type": "code",
   "execution_count": 33,
   "metadata": {},
   "outputs": [
    {
     "name": "stdout",
     "output_type": "stream",
     "text": [
      "-32\n",
      "[[0, 1, 1, 1, 1], [1, 0, 1, 2500000000000000, 2500000000000000], [1, 1, 0, 2499999900000001, 2499999900000001], [1, 2500000000000000, 2499999900000001, 0, 4], [1, 2500000000000000, 2499999900000001, 4, 0]]\n"
     ]
    }
   ],
   "source": [
    "x = 50000000\n",
    "#x = 12\n",
    "a,b,c,d,e,f = 1,x,x,x-1,x-1,2\n",
    "A = [[0, 1, 1, 1, 1],                   [1, 0, a*a, b*b, c*c],                   [1, a*a, 0, d*d, e*e],                   [1, b*b, d*d, 0, f*f],                   [1, c*c, e*e, f*f, 0]]\n",
    "#print(np.linalg.det(A))\n",
    "print(det(A))\n",
    "print(A)"
   ]
  }
 ],
 "metadata": {
  "kernelspec": {
   "display_name": "gadi",
   "language": "python",
   "name": "gadi"
  },
  "language_info": {
   "codemirror_mode": {
    "name": "ipython",
    "version": 3
   },
   "file_extension": ".py",
   "mimetype": "text/x-python",
   "name": "python",
   "nbconvert_exporter": "python",
   "pygments_lexer": "ipython3",
   "version": "3.10.11"
  }
 },
 "nbformat": 4,
 "nbformat_minor": 2
}

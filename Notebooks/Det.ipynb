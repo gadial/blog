{
 "cells": [
  {
   "cell_type": "code",
   "execution_count": null,
   "metadata": {},
   "outputs": [
    {
     "name": "stdout",
     "output_type": "stream",
     "text": [
      "0\n",
      "0.0\n"
     ]
    }
   ],
   "source": [
    "import numpy as np\n",
    "import copy\n",
    "def old_det(A):\n",
    "    result = 1\n",
    "    n = len(A)\n",
    "    # go over all columns k=0,1,...,n-1\n",
    "    for k in range(n):\n",
    "        if A[k][k] == 0:\n",
    "            for i in range(k+1, n):\n",
    "                if A[i][k] != 0:\n",
    "                    A[k], A[i] = A[i], A[k]\n",
    "                    result *= -1\n",
    "                    break\n",
    "            if A[k][k] == 0:\n",
    "                return 0\n",
    "        # go over all rows i=k+1,k+2,...,n-1\n",
    "        result *= A[k][k]\n",
    "        for i in range(k+1, n):\n",
    "            factor = A[i][k] / A[k][k]\n",
    "            # go over all the nonzero elements in row i\n",
    "            for j in range(k, n):\n",
    "                A[i][j] -= factor * A[k][j]\n",
    "    return result\n",
    "\n",
    "A = [[2,8,3],[4,9,1],[3,3,3]]\n",
    "A = [[1,1,0],[1,1,3],[1,1,8]]\n",
    "print(det(A))\n",
    "print(np.linalg.det(A))"
   ]
  },
  {
   "cell_type": "code",
   "execution_count": null,
   "metadata": {},
   "outputs": [
    {
     "name": "stdout",
     "output_type": "stream",
     "text": [
      "-69\n",
      "-68.99999999999996\n"
     ]
    }
   ],
   "source": [
    "def det(A):\n",
    "    n = len(A)\n",
    "    if n == 1:\n",
    "        return A[0][0]\n",
    "    result = 0\n",
    "    for k in range(n):\n",
    "        minor_matrix = [[A[i][j] for j in range(n) if j != k] for i in range(1, n)]\n",
    "        result += (-1)**k * A[0][k] * det(minor_matrix)\n",
    "    return result\n",
    "\n",
    "def efficient_det(A):\n",
    "    result = 1\n",
    "    n = len(A)\n",
    "    # go over all columns k=0,1,...,n-1\n",
    "    for k in range(n):\n",
    "        if A[k][k] == 0:\n",
    "            for i in range(k+1, n):\n",
    "                if A[i][k] != 0:\n",
    "                    A[k], A[i] = A[i], A[k]\n",
    "                    result *= -1\n",
    "                    break\n",
    "            if A[k][k] == 0:\n",
    "                return 0\n",
    "        # go over all rows i=k+1,k+2,...,n-1\n",
    "        result *= A[k][k]\n",
    "        for i in range(k+1, n):\n",
    "            factor = A[i][k] / A[k][k]\n",
    "            # go over all the nonzero elements in row i\n",
    "            for j in range(k, n):\n",
    "                A[i][j] -= factor * A[k][j]\n",
    "    return result\n",
    "#A = np.array([[1,2,3,1],[5,6,7,8],[9,15,11,12],[13,10,15,16]])\n",
    "A = [[2,8,3],[4,9,1],[3,3,3]]\n",
    "print(det(A))\n",
    "print(np.linalg.det(A))"
   ]
  },
  {
   "cell_type": "code",
   "execution_count": 24,
   "metadata": {},
   "outputs": [
    {
     "name": "stdout",
     "output_type": "stream",
     "text": [
      "[[3, 1, 0], [0, 3, 9], [0, 0, 24]]\n",
      "-24\n",
      "9\n"
     ]
    }
   ],
   "source": [
    "def bareiss_det(M):\n",
    "    sign = 1\n",
    "    n = len(M)\n",
    "    for k in range(n-1):\n",
    "        if M[k][k] == 0:\n",
    "            for i in range(k+1,n):\n",
    "                if M[i][k] != 0:\n",
    "                    M[k][k] = M[i][k]\n",
    "                    sign *= -1\n",
    "                    break\n",
    "            if M[k][k] == 0:\n",
    "                return 0\n",
    "        for i in range(k+1, n):\n",
    "            for j in range(k+1, n):\n",
    "                M[i][j] = (M[i][j] * M[k][k] - M[i][k] * M[k][j])\n",
    "                if k != 0:\n",
    "                     M[i][j] =  M[i][j] // M[k-1][k-1]\n",
    "            M[i][k]=0\n",
    "    print(M)\n",
    "    return sign * M[-1][-1]\n",
    "\n",
    "A = [[0,1,0],[0,1,3],[3,1,8]]\n",
    "print(bareiss_det(copy.deepcopy(A)))\n",
    "print(det(copy.deepcopy(A)))"
   ]
  },
  {
   "cell_type": "code",
   "execution_count": 16,
   "metadata": {},
   "outputs": [
    {
     "name": "stdout",
     "output_type": "stream",
     "text": [
      "0\n",
      "0\n",
      "0.0\n"
     ]
    }
   ],
   "source": [
    "#A = [[2,8,3],[4,9,1],[3,3,3]]\n",
    "A = [[1,1,0],[1,1,3],[1,1,8]]\n",
    "print(det(copy.deepcopy(A)))\n",
    "print(bareiss_det(copy.deepcopy(A)))\n",
    "print(np.linalg.det(copy.deepcopy(A)))"
   ]
  },
  {
   "cell_type": "code",
   "execution_count": 11,
   "metadata": {},
   "outputs": [
    {
     "name": "stdout",
     "output_type": "stream",
     "text": [
      "-70\n",
      "-69.99999999999996\n"
     ]
    }
   ],
   "source": [
    "A = [[1,2,3], [4,5,6], [7,8,9]]\n",
    "\n",
    "def det(A):\n",
    "    result = 1\n",
    "    n = len(A)\n",
    "    # go over all columns k=0,1,...,n-1\n",
    "    for k in range(n):\n",
    "        if A[k][k] == 0:\n",
    "            for i in range(k+1, n):\n",
    "                if A[i][k] != 0:\n",
    "                    A[k], A[i] = A[i], A[k]\n",
    "                    result *= -1\n",
    "                    break\n",
    "            else:\n",
    "                return 0\n",
    "        # go over all rows i=k+1,k+2,...,n-1\n",
    "        result *= A[k][k]\n",
    "        for i in range(k+1, n):\n",
    "            factor = A[i][k] / A[k][k]\n",
    "            # go over all the nonzero elements in row i\n",
    "            for j in range(k, n):\n",
    "                A[i][j] -= factor * A[k][j]\n",
    "    return result\n",
    "    \n",
    "\n",
    "\n",
    "A = np.array([[1,2,3,1],[5,6,7,8],[9,15,11,12],[13,10,15,16]])\n",
    "A = np.array([[2,8,3],[4,9,1],[3,3,3]])\n",
    "print(det(A))\n",
    "print(np.linalg.det(A))"
   ]
  },
  {
   "cell_type": "code",
   "execution_count": 28,
   "metadata": {},
   "outputs": [],
   "source": [
    "def minor(A, i,j):\n",
    "    B = []\n",
    "    for k in range(len(A)):\n",
    "        if k != i:\n",
    "            B.append([A[k][l] for l in range(len(A)) if l != j])\n",
    "    return B\n",
    "\n",
    "def det(A):\n",
    "    n = len(A)\n",
    "    if n == 1:\n",
    "        return A[0][0]\n",
    "    else:\n",
    "        sign = 1\n",
    "        detA = 0\n",
    "        for i in range(n):\n",
    "            B = minor(A, 0, i)\n",
    "            detA += sign*A[0][i]*det(B)\n",
    "            sign = -sign\n",
    "        return detA"
   ]
  },
  {
   "cell_type": "code",
   "execution_count": 33,
   "metadata": {},
   "outputs": [
    {
     "name": "stdout",
     "output_type": "stream",
     "text": [
      "-32\n",
      "[[0, 1, 1, 1, 1], [1, 0, 1, 2500000000000000, 2500000000000000], [1, 1, 0, 2499999900000001, 2499999900000001], [1, 2500000000000000, 2499999900000001, 0, 4], [1, 2500000000000000, 2499999900000001, 4, 0]]\n"
     ]
    }
   ],
   "source": [
    "x = 50000000\n",
    "#x = 12\n",
    "a,b,c,d,e,f = 1,x,x,x-1,x-1,2\n",
    "A = [[0, 1, 1, 1, 1],                   [1, 0, a*a, b*b, c*c],                   [1, a*a, 0, d*d, e*e],                   [1, b*b, d*d, 0, f*f],                   [1, c*c, e*e, f*f, 0]]\n",
    "#print(np.linalg.det(A))\n",
    "print(det(A))\n",
    "print(A)"
   ]
  }
 ],
 "metadata": {
  "kernelspec": {
   "display_name": "gadi",
   "language": "python",
   "name": "gadi"
  },
  "language_info": {
   "codemirror_mode": {
    "name": "ipython",
    "version": 3
   },
   "file_extension": ".py",
   "mimetype": "text/x-python",
   "name": "python",
   "nbconvert_exporter": "python",
   "pygments_lexer": "ipython3",
   "version": "3.10.11"
  }
 },
 "nbformat": 4,
 "nbformat_minor": 2
}

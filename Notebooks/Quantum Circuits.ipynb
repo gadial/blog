{
 "cells": [
  {
   "cell_type": "code",
   "execution_count": 1,
   "metadata": {},
   "outputs": [],
   "source": [
    "from qiskit import QuantumCircuit, ClassicalRegister, QuantumRegister\n",
    "import subprocess\n",
    "import os"
   ]
  },
  {
   "cell_type": "code",
   "execution_count": 6,
   "metadata": {},
   "outputs": [],
   "source": [
    "def draw(latex):\n",
    "    from PIL import Image\n",
    "\n",
    "    tmpfilename = \"circuit\"\n",
    "    latex_filename =  f\"{tmpfilename}.tex\"\n",
    "    pdf_filename = f\"{tmpfilename}.pdf\"\n",
    "    with open(latex_filename, \"w\") as latex_file:\n",
    "        latex_file.write(latex)\n",
    "    try:\n",
    "        cmd = f\"pdflatex {latex_filename}\"\n",
    "#        print(f\"Running cmd {cmd}\")\n",
    "        res = subprocess.run(cmd, capture_output=True)\n",
    "#        print(str(res.stdout))\n",
    "    except OSError as exc:\n",
    "        print(\"`pdflatex` command could not be run.\")\n",
    "        return None\n",
    "    except subprocess.CalledProcessError as exc:\n",
    "        print(\n",
    "            \"Unable to compile LaTeX. Perhaps you are missing the `qcircuit` package.\"\n",
    "            \" The output from the `pdflatex` command is in `latex_error.log`.\"\n",
    "        )\n",
    "        print(exc.stdout)\n",
    "        return None\n",
    "    try:\n",
    "        subprocess.run(\n",
    "            [\"pdftocairo\", \"-singlefile\", \"-png\", \"-q\", pdf_filename, tmpfilename],\n",
    "            check=True,\n",
    "        )\n",
    "    except (OSError, subprocess.CalledProcessError) as exc:\n",
    "        print(\"`pdftocairo` failed to produce an image.\")\n",
    "        print(res.stdout.decode(\"utf-8\"))\n",
    "        return None\n",
    "    os.remove(pdf_filename)\n",
    "    image = Image.open(tmpfilename + \".png\")\n",
    "#        image = utils._trim(image)\n",
    "    return image"
   ]
  },
  {
   "cell_type": "markdown",
   "metadata": {},
   "source": [
    "# Bell pair generation"
   ]
  },
  {
   "cell_type": "code",
   "execution_count": 27,
   "metadata": {},
   "outputs": [
    {
     "data": {
      "image/png": "[encoded data removed]",
      "text/plain": [
       "<PIL.PngImagePlugin.PngImageFile image mode=RGB size=341x141 at 0x2329EBE2D48>"
      ]
     },
     "execution_count": 27,
     "metadata": {},
     "output_type": "execute_result"
    }
   ],
   "source": [
    "latex = r\"\"\"\\documentclass[border=2px]{standalone}\n",
    "        \n",
    "\\usepackage[braket, qm]{qcircuit}\n",
    "\\usepackage{graphicx}\n",
    "\n",
    "\\begin{document} \n",
    "\\scalebox{2.0}{\n",
    "    \\Qcircuit @C=1em @R=1em {\n",
    "    \\nghost{1} & \\lstick{\\ket{0}} & \\gate{\\mathrm{H}} & \\ctrl{1} & \\rstick{\\ket{0}} \\qw \\\\\n",
    "    \\nghost{1} & \\lstick{\\ket{0}} & \\qw               &\\targ & \\rstick{\\ket{1}} \\qw\n",
    "}\n",
    "}\n",
    "\n",
    "\n",
    "\\end{document}\"\"\"\n",
    "\n",
    "draw(latex)"
   ]
  },
  {
   "cell_type": "code",
   "execution_count": 4,
   "metadata": {},
   "outputs": [
    {
     "data": {
      "text/plain": [
       "'\\\\documentclass[border=2px]{standalone}\\n        \\n\\\\usepackage[braket, qm]{qcircuit}\\n\\\\usepackage{graphicx}\\n\\n\\\\begin{document} \\n\\\\scalebox{1.0}{\\n\\\\Qcircuit @C=1.0em @R=0.2em @!R { \\\\\\\\\\n\\t \\t\\\\nghost{ {q}_{0} :  } & \\\\lstick{ {q}_{0} :  } & \\\\gate{\\\\mathrm{H}} & \\\\qw & \\\\ctrl{1} & \\\\meter & \\\\qw & \\\\qw & \\\\qw\\\\\\\\ \\n\\t \\t\\\\nghost{ {q}_{1} :  } & \\\\lstick{ {q}_{1} :  } & \\\\gate{\\\\mathrm{X}} & \\\\gate{\\\\mathrm{H}} & \\\\targ & \\\\qw & \\\\meter & \\\\qw & \\\\qw\\\\\\\\ \\n\\t \\t\\\\nghost{ {q}_{2} :  } & \\\\lstick{ {q}_{2} :  } & \\\\gate{\\\\mathrm{H}} & \\\\meter & \\\\qw & \\\\qw & \\\\qw & \\\\qw & \\\\qw\\\\\\\\ \\n\\t \\t\\\\nghost{c:} & \\\\lstick{c:} & \\\\lstick{/_{_{3}}} \\\\cw & \\\\dstick{_{_{2}}} \\\\cw \\\\cwx[-1] & \\\\cw & \\\\dstick{_{_{0}}} \\\\cw \\\\cwx[-3] & \\\\dstick{_{_{1}}} \\\\cw \\\\cwx[-2] & \\\\cw & \\\\cw\\\\\\\\ \\n\\\\\\\\ }}\\n\\\\end{document}'"
      ]
     },
     "execution_count": 4,
     "metadata": {},
     "output_type": "execute_result"
    }
   ],
   "source": [
    "circuit = QuantumCircuit(3, 3)\n",
    "\n",
    "circuit.x(1)\n",
    "circuit.h(range(3))\n",
    "circuit.cx(0, 1)\n",
    "circuit.measure(range(3), range(3));\n",
    "circuit.draw(output=\"latex_source\")"
   ]
  },
  {
   "cell_type": "raw",
   "metadata": {},
   "source": [
    "\\\\documentclass[border=2px]{standalone}\\n        \\n\\\\usepackage[braket, qm]{qcircuit}\\n\\\\usepackage{graphicx}\\n\\n\\\\begin{document} \\n\\\\scalebox{1.0}{\\n\\\\Qcircuit @C=1.0em @R=0.2em @!R { \\\\\\\\\\n\\t \\t\\\\nghost{ {q}_{0} :  } & \\\\lstick{ {q}_{0} :  } & \\\\gate{\\\\mathrm{H}} & \\\\qw & \\\\ctrl{1} & \\\\meter & \\\\qw & \\\\qw & \\\\qw\\\\\\\\ \\n\\t \\t\\\\nghost{ {q}_{1} :  } & \\\\lstick{ {q}_{1} :  } & \\\\gate{\\\\mathrm{X}} & \\\\gate{\\\\mathrm{H}} & \\\\targ & \\\\qw & \\\\meter & \\\\qw & \\\\qw\\\\\\\\ \\n\\t \\t\\\\nghost{ {q}_{2} :  } & \\\\lstick{ {q}_{2} :  } & \\\\gate{\\\\mathrm{H}} & \\\\meter & \\\\qw & \\\\qw & \\\\qw & \\\\qw & \\\\qw\\\\\\\\ \\n\\t \\t\\\\nghost{c:} & \\\\lstick{c:} & \\\\lstick{/_{_{3}}} \\\\cw & \\\\dstick{_{_{2}}} \\\\cw \\\\cwx[-1] & \\\\cw & \\\\dstick{_{_{0}}} \\\\cw \\\\cwx[-3] & \\\\dstick{_{_{1}}} \\\\cw \\\\cwx[-2] & \\\\cw & \\\\cw\\\\\\\\ \\n\\\\\\\\ }}\\n\\\\end{document}"
   ]
  },
  {
   "cell_type": "code",
   "execution_count": 8,
   "metadata": {},
   "outputs": [
    {
     "data": {
      "image/png": "[encoded data removed]",
      "text/plain": [
       "<PIL.PngImagePlugin.PngImageFile image mode=RGB size=390x175 at 0x2329EBC6AC8>"
      ]
     },
     "execution_count": 8,
     "metadata": {},
     "output_type": "execute_result"
    }
   ],
   "source": [
    "s = '\\\\documentclass[border=2px]{standalone}\\n        \\n\\\\usepackage[braket, qm]{qcircuit}\\n\\\\usepackage{graphicx}\\n\\n\\\\begin{document} \\n\\\\scalebox{1.0}{\\n\\\\Qcircuit @C=1.0em @R=0.2em @!R { \\\\\\\\\\n\\t \\t\\\\nghost{ {q}_{0} :  } & \\\\lstick{ {q}_{0} :  } & \\\\gate{\\\\mathrm{H}} & \\\\qw & \\\\ctrl{1} & \\\\meter & \\\\qw & \\\\qw & \\\\qw\\\\\\\\ \\n\\t \\t\\\\nghost{ {q}_{1} :  } & \\\\lstick{ {q}_{1} :  } & \\\\gate{\\\\mathrm{X}} & \\\\gate{\\\\mathrm{H}} & \\\\targ & \\\\qw & \\\\meter & \\\\qw & \\\\qw\\\\\\\\ \\n\\t \\t\\\\nghost{ {q}_{2} :  } & \\\\lstick{ {q}_{2} :  } & \\\\gate{\\\\mathrm{H}} & \\\\meter & \\\\qw & \\\\qw & \\\\qw & \\\\qw & \\\\qw\\\\\\\\ \\n\\t \\t\\\\nghost{c:} & \\\\lstick{c:} & \\\\lstick{/_{_{3}}} \\\\cw & \\\\dstick{_{_{2}}} \\\\cw \\\\cwx[-1] & \\\\cw & \\\\dstick{_{_{0}}} \\\\cw \\\\cwx[-3] & \\\\dstick{_{_{1}}} \\\\cw \\\\cwx[-2] & \\\\cw & \\\\cw\\\\\\\\ \\n\\\\\\\\ }}\\n\\\\end{document}'\n",
    "draw(s)"
   ]
  },
  {
   "cell_type": "code",
   "execution_count": 57,
   "metadata": {},
   "outputs": [
    {
     "data": {
      "image/png": "[encoded data removed]",
      "text/plain": [
       "<PIL.PngImagePlugin.PngImageFile image mode=RGB size=113x23 at 0x1CC232D2FC8>"
      ]
     },
     "execution_count": 57,
     "metadata": {},
     "output_type": "execute_result"
    }
   ],
   "source": [
    "latex = r\"\"\"\\\\documentclass[border=2px]{standalone}\\n        \\n\\\\usepackage[braket, qm]{qcircuit}\\n\\\\usepackage{graphicx}\\n\\n\\\\begin{document} \\n\\\\scalebox{1.0}{\\n\\\\Qcircuit @C=1.0em @R=0.2em @!R { \\\\\\\\\\n\\t \\t\\\\nghost{ {q}_{0} :  } & \\\\lstick{ {q}_{0} :  } & \\\\gate{\\\\mathrm{H}} & \\\\qw & \\\\ctrl{1} & \\\\meter & \\\\qw & \\\\qw & \\\\qw\\\\\\\\ \\n\\t \\t\\\\nghost{ {q}_{1} :  } & \\\\lstick{ {q}_{1} :  } & \\\\gate{\\\\mathrm{X}} & \\\\gate{\\\\mathrm{H}} & \\\\targ & \\\\qw & \\\\meter & \\\\qw & \\\\qw\\\\\\\\ \\n\\t \\t\\\\nghost{ {q}_{2} :  } & \\\\lstick{ {q}_{2} :  } & \\\\gate{\\\\mathrm{H}} & \\\\meter & \\\\qw & \\\\qw & \\\\qw & \\\\qw & \\\\qw\\\\\\\\ \\n\\t \\t\\\\nghost{c:} & \\\\lstick{c:} & \\\\lstick{/_{_{3}}} \\\\cw & \\\\dstick{_{_{2}}} \\\\cw \\\\cwx[-1] & \\\\cw & \\\\dstick{_{_{0}}} \\\\cw \\\\cwx[-3] & \\\\dstick{_{_{1}}} \\\\cw \\\\cwx[-2] & \\\\cw & \\\\cw\\\\\\\\ \\n\\\\\\\\ }}\\n\\\\end{document}\"\"\"\n",
    "\n",
    "draw(latex)"
   ]
  },
  {
   "cell_type": "code",
   "execution_count": 26,
   "metadata": {},
   "outputs": [
    {
     "data": {
      "image/png": "[encoded data removed]",
      "text/plain": [
       "<PIL.PngImagePlugin.PngImageFile image mode=RGB size=341x141 at 0x2329EBE2448>"
      ]
     },
     "execution_count": 26,
     "metadata": {},
     "output_type": "execute_result"
    }
   ],
   "source": [
    "latex = r\"\"\"\\documentclass[border=2px]{standalone}\n",
    "        \n",
    "\\usepackage[braket, qm]{qcircuit}\n",
    "\\usepackage{graphicx}\n",
    "\n",
    "\\begin{document} \n",
    "\\scalebox{2.0}{\n",
    "    \\Qcircuit @C=1em @R=1em {\n",
    "    \\nghost{1} & \\lstick{\\ket{0}} & \\gate{\\mathrm{H}} & \\ctrl{1} & \\rstick{\\ket{0}} \\qw \\\\\n",
    "    \\nghost{1} & \\lstick{\\ket{0}} & \\qw               &\\targ & \\rstick{\\ket{1}} \\qw\n",
    "}\n",
    "}\n",
    "\n",
    "\n",
    "\\end{document}\"\"\"\n",
    "\n",
    "draw(latex)"
   ]
  },
  {
   "cell_type": "code",
   "execution_count": 28,
   "metadata": {},
   "outputs": [
    {
     "data": {
      "image/png": "[encoded data removed]",
      "text/plain": [
       "<PIL.PngImagePlugin.PngImageFile image mode=RGB size=237x138 at 0x2329EBE6648>"
      ]
     },
     "execution_count": 28,
     "metadata": {},
     "output_type": "execute_result"
    }
   ],
   "source": [
    "latex = r\"\"\"\\documentclass[border=2px]{standalone}\n",
    "        \n",
    "\\usepackage[braket, qm]{qcircuit}\n",
    "\\usepackage{graphicx}\n",
    "\n",
    "\\begin{document} \n",
    "\\scalebox{2.0}{\n",
    "    \\Qcircuit @C=1em @R=1em {\n",
    "    \\lstick{\\ket{0}} & \\gate{\\mathrm{H}} & \\ctrl{1} & \\rstick{\\ket{0}} \\qw \\\\\n",
    "    \\lstick{\\ket{0}} & \\qw               &\\targ & \\rstick{\\ket{1}} \\qw\n",
    "}\n",
    "}\n",
    "\n",
    "\n",
    "\\end{document}\"\"\"\n",
    "\n",
    "draw(latex)"
   ]
  },
  {
   "cell_type": "code",
   "execution_count": 21,
   "metadata": {},
   "outputs": [
    {
     "name": "stdout",
     "output_type": "stream",
     "text": [
      "Running cmd pdflatex circuit.tex\n",
      "b'This is pdfTeX, Version 3.14159265-2.6-1.40.19 (MiKTeX 2.9.6840)\\r\\nentering extended mode\\r\\n(circuit.tex\\r\\nLaTeX2e <2018-04-01> patch level 5\\r\\n(\"C:\\\\Program Files (x86)\\\\MiKTeX 2.9\\\\tex\\\\latex\\\\standalone\\\\standalone.cls\"\\r\\nDocument Class: standalone 2018/03/26 v1.3a Class to compile TeX sub-files stan\\r\\ndalone\\r\\n(\"C:\\\\Program Files (x86)\\\\MiKTeX 2.9\\\\tex\\\\latex\\\\tools\\\\shellesc.sty\")\\r\\n(\"C:\\\\Program Files (x86)\\\\MiKTeX 2.9\\\\tex\\\\generic\\\\iftex\\\\ifluatex.sty\"\\r\\n(\"C:\\\\Program Files (x86)\\\\MiKTeX 2.9\\\\tex\\\\generic\\\\iftex\\\\iftex.sty\"))\\r\\n(\"C:\\\\Program Files (x86)\\\\MiKTeX 2.9\\\\tex\\\\latex\\\\xkeyval\\\\xkeyval.sty\"\\r\\n(\"C:\\\\Program Files (x86)\\\\MiKTeX 2.9\\\\tex\\\\generic\\\\xkeyval\\\\xkeyval.tex\"\\r\\n(\"C:\\\\Program Files (x86)\\\\MiKTeX 2.9\\\\tex\\\\generic\\\\xkeyval\\\\xkvutils.tex\"\\r\\n(\"C:\\\\Program Files (x86)\\\\MiKTeX 2.9\\\\tex\\\\generic\\\\xkeyval\\\\keyval.tex\"))))\\r\\n(\"C:\\\\Program Files (x86)\\\\MiKTeX 2.9\\\\tex\\\\latex\\\\standalone\\\\standalone.cfg\")\\r\\n(\"C:\\\\Program Files (x86)\\\\MiKTeX 2.9\\\\tex\\\\latex\\\\base\\\\article.cls\"\\r\\nDocument Class: article 2014/09/29 v1.4h Standard LaTeX document class\\r\\n(\"C:\\\\Program Files (x86)\\\\MiKTeX 2.9\\\\tex\\\\latex\\\\base\\\\size10.clo\")))\\r\\n(\"C:\\\\Program Files (x86)\\\\MiKTeX 2.9\\\\tex\\\\latex\\\\qcircuit\\\\qcircuit.sty\"\\r\\n(\"C:\\\\Program Files (x86)\\\\MiKTeX 2.9\\\\tex\\\\generic\\\\xypic\\\\xy.sty\"\\r\\n(\"C:\\\\Program Files (x86)\\\\MiKTeX 2.9\\\\tex\\\\generic\\\\xypic\\\\xy.tex\" Bootstrap\\'ing:\\r\\ncatcodes, docmode,\\r\\n(\"C:\\\\Program Files (x86)\\\\MiKTeX 2.9\\\\tex\\\\generic\\\\xypic\\\\xyrecat.tex\")\\r\\n(\"C:\\\\Program Files (x86)\\\\MiKTeX 2.9\\\\tex\\\\generic\\\\xypic\\\\xyidioms.tex\")\\r\\n\\r\\n Xy-pic version 3.8.9 <2013/10/06>\\r\\n Copyright (c) 1991-2013 by Kristoffer H. Rose <krisrose@tug.org> and others\\r\\n Xy-pic is free software: see the User\\'s Guide for details.\\r\\n\\r\\nLoading kernel: messages; fonts; allocations: state, direction,\\r\\nutility macros; pictures: \\\\xy, positions, objects, decorations;\\r\\nkernel objects: directionals, circles, text; options; algorithms: directions,\\r\\nedges, connections;  Xy-pic loaded)\\r\\n(\"C:\\\\Program Files (x86)\\\\MiKTeX 2.9\\\\tex\\\\generic\\\\iftex\\\\ifpdf.sty\")\\r\\n(\"C:\\\\Program Files (x86)\\\\MiKTeX 2.9\\\\tex\\\\generic\\\\xypic\\\\xypdf.tex\"\\r\\n Xy-pic option: PDF driver v.1.7 loaded))\\r\\n(\"C:\\\\Program Files (x86)\\\\MiKTeX 2.9\\\\tex\\\\generic\\\\xypic\\\\xymatrix.tex\"\\r\\n Xy-pic option: Matrix feature v.3.14 loaded)\\r\\n(\"C:\\\\Program Files (x86)\\\\MiKTeX 2.9\\\\tex\\\\generic\\\\xypic\\\\xyframe.tex\"\\r\\n Xy-pic option: Frame and Bracket extension v.3.14 loaded)\\r\\nXy-pic pdf driver: `frame\\' extension support\\r\\n(\"C:\\\\Program Files (x86)\\\\MiKTeX 2.9\\\\tex\\\\generic\\\\xypic\\\\xypdf-fr.tex\"\\r\\n(\"C:\\\\Program Files (x86)\\\\MiKTeX 2.9\\\\tex\\\\generic\\\\xypic\\\\xycurve.tex\"\\r\\n Xy-pic option: Curve and Spline extension v.3.12 curve, circles, loaded)\\r\\nXy-pic pdf driver: `curve\\' extension support\\r\\n(\"C:\\\\Program Files (x86)\\\\MiKTeX 2.9\\\\tex\\\\generic\\\\xypic\\\\xypdf-cu.tex\" loaded)\\r\\nloaded) (\"C:\\\\Program Files (x86)\\\\MiKTeX 2.9\\\\tex\\\\generic\\\\xypic\\\\xyarrow.tex\"\\r\\n Xy-pic option: Arrow and Path feature v.3.9 path, \\\\ar, loaded)\\r\\n(\"C:\\\\Program Files (x86)\\\\MiKTeX 2.9\\\\tex\\\\generic\\\\xypic\\\\xyarc.tex\"\\r\\n Xy-pic option: Circle, Ellipse, Arc feature v.3.8 circles, ellipses,\\r\\nelliptical arcs, loaded))\\r\\n(\"C:\\\\Program Files (x86)\\\\MiKTeX 2.9\\\\tex\\\\latex\\\\graphics\\\\graphicx.sty\"\\r\\n(\"C:\\\\Program Files (x86)\\\\MiKTeX 2.9\\\\tex\\\\latex\\\\graphics\\\\graphics.sty\"\\r\\n(\"C:\\\\Program Files (x86)\\\\MiKTeX 2.9\\\\tex\\\\latex\\\\graphics\\\\trig.sty\")\\r\\n(\"C:\\\\Program Files (x86)\\\\MiKTeX 2.9\\\\tex\\\\latex\\\\graphics-cfg\\\\graphics.cfg\")\\r\\n(\"C:\\\\Program Files (x86)\\\\MiKTeX 2.9\\\\tex\\\\latex\\\\graphics-def\\\\pdftex.def\")))\\r\\n(circuit.aux)\\r\\n(\"C:\\\\Program Files (x86)\\\\MiKTeX 2.9\\\\tex\\\\context\\\\base\\\\mkii\\\\supp-pdf.mkii\"\\r\\n[Loading MPS to PDF converter (version 2006.09.02).]\\r\\n) (\"C:\\\\Program Files (x86)\\\\MiKTeX 2.9\\\\tex\\\\latex\\\\oberdiek\\\\epstopdf-base.sty\"\\r\\n(\"C:\\\\Program Files (x86)\\\\MiKTeX 2.9\\\\tex\\\\generic\\\\oberdiek\\\\infwarerr.sty\")\\r\\n(\"C:\\\\Program Files (x86)\\\\MiKTeX 2.9\\\\tex\\\\latex\\\\oberdiek\\\\grfext.sty\"\\r\\n(\"C:\\\\Program Files (x86)\\\\MiKTeX 2.9\\\\tex\\\\generic\\\\oberdiek\\\\kvdefinekeys.sty\"\\r\\n(\"C:\\\\Program Files (x86)\\\\MiKTeX 2.9\\\\tex\\\\generic\\\\oberdiek\\\\ltxcmds.sty\")))\\r\\n(\"C:\\\\Program Files (x86)\\\\MiKTeX 2.9\\\\tex\\\\latex\\\\oberdiek\\\\kvoptions.sty\"\\r\\n(\"C:\\\\Program Files (x86)\\\\MiKTeX 2.9\\\\tex\\\\generic\\\\oberdiek\\\\kvsetkeys.sty\"\\r\\n(\"C:\\\\Program Files (x86)\\\\MiKTeX 2.9\\\\tex\\\\generic\\\\oberdiek\\\\etexcmds.sty\")))\\r\\n(\"C:\\\\Program Files (x86)\\\\MiKTeX 2.9\\\\tex\\\\latex\\\\pdftexcmds\\\\pdftexcmds.sty\"))\\r\\n<xymatrix 9x6 1669> [1{C:/Users/gadia/AppData/Roaming/MiKTeX/2.9/pdftex/config/\\r\\npdftex.map}] (circuit.aux) )<C:/Program Files (x86)/MiKTeX 2.9/fonts/type1/publ\\r\\nic/amsfonts/cm/cmmi10.pfb><C:/Program Files (x86)/MiKTeX 2.9/fonts/type1/public\\r\\n/amsfonts/cm/cmr10.pfb><C:/Program Files (x86)/MiKTeX 2.9/fonts/type1/public/am\\r\\nsfonts/cm/cmr5.pfb><C:/Program Files (x86)/MiKTeX 2.9/fonts/type1/public/amsfon\\r\\nts/cm/cmr7.pfb><C:/Program Files (x86)/MiKTeX 2.9/fonts/type1/public/amsfonts/c\\r\\nm/cmsy10.pfb>\\r\\nOutput written on circuit.pdf (1 page, 43703 bytes).\\r\\nTranscript written on circuit.log.\\r\\n'\n"
     ]
    }
   ],
   "source": [
    "cmd = f\"pdflatex circuit.tex\"\n",
    "print(f\"Running cmd {cmd}\")\n",
    "res = subprocess.run(cmd, capture_output=True)\n",
    "print(res.stdout)"
   ]
  }
 ],
 "metadata": {
  "kernelspec": {
   "display_name": "Python 3",
   "language": "python",
   "name": "python3"
  },
  "language_info": {
   "codemirror_mode": {
    "name": "ipython",
    "version": 3
   },
   "file_extension": ".py",
   "mimetype": "text/x-python",
   "name": "python",
   "nbconvert_exporter": "python",
   "pygments_lexer": "ipython3",
   "version": "3.7.6"
  }
 },
 "nbformat": 4,
 "nbformat_minor": 4
}

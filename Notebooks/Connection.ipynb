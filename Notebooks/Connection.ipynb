{
 "cells": [
  {
   "cell_type": "code",
   "execution_count": 7,
   "metadata": {},
   "outputs": [],
   "source": [
    "def factorial(n):\n",
    "    if n == 0:\n",
    "        return 1\n",
    "    return n*factorial(n-1)\n",
    "\n",
    "def binom(n,k):\n",
    "    if k > n or k < 0:\n",
    "        return 0\n",
    "    return factorial(n)//(factorial(k)*factorial(n-k))"
   ]
  },
  {
   "cell_type": "code",
   "execution_count": 15,
   "metadata": {},
   "outputs": [],
   "source": [
    "def connections_choices_number(num_of_groups, num_of_group_elements):\n",
    "    # think of it as assigning num_of_groups colors, each color assigned num_of_group_elements times\n",
    "    total_elements = num_of_groups*num_of_group_elements\n",
    "    # number of colors if they were all different\n",
    "    result = factorial(total_elements)\n",
    "    # disable the inner order of num_of_group_elements elements, for each of the num_of_groups groups\n",
    "    inner_orders = factorial(num_of_group_elements)**num_of_groups\n",
    "    result = result // inner_orders\n",
    "    # the order colors themselves don't matter\n",
    "    colors_inner_order = factorial(num_of_groups)\n",
    "    result = result // colors_inner_order\n",
    "    return result"
   ]
  },
  {
   "cell_type": "code",
   "execution_count": 290,
   "metadata": {},
   "outputs": [
    {
     "data": {
      "text/plain": [
       "0.002197802197802198"
      ]
     },
     "execution_count": 290,
     "metadata": {},
     "output_type": "execute_result"
    }
   ],
   "source": [
    "total_four = connections_choices_number(4,4)\n",
    "total_three = connections_choices_number(3,4)\n",
    "total_two = connections_choices_number(2,4)\n",
    "total_one = connections_choices_number(1,4)\n",
    "total_four, total_three, total_two, total_one\n",
    "total_three / total_four\n"
   ]
  },
  {
   "cell_type": "code",
   "execution_count": 296,
   "metadata": {},
   "outputs": [
    {
     "data": {
      "text/plain": [
       "22891"
      ]
     },
     "execution_count": 296,
     "metadata": {},
     "output_type": "execute_result"
    }
   ],
   "source": [
    "P0 = connections_choices_number(4,4)\n",
    "P1 = connections_choices_number(3,4)\n",
    "P2 = connections_choices_number(2,4)\n",
    "P3 = connections_choices_number(1,4)\n",
    "\n",
    "4*P1-6*P2+1*P3"
   ]
  },
  {
   "cell_type": "code",
   "execution_count": 301,
   "metadata": {},
   "outputs": [
    {
     "data": {
      "text/plain": [
       "209"
      ]
     },
     "execution_count": 301,
     "metadata": {},
     "output_type": "execute_result"
    }
   ],
   "source": [
    "6*P2-1*P3"
   ]
  },
  {
   "cell_type": "code",
   "execution_count": 298,
   "metadata": {},
   "outputs": [
    {
     "data": {
      "text/plain": [
       "0.008711669283097854"
      ]
     },
     "execution_count": 298,
     "metadata": {},
     "output_type": "execute_result"
    }
   ],
   "source": [
    "22891 / P0"
   ]
  },
  {
   "cell_type": "code",
   "execution_count": 302,
   "metadata": {},
   "outputs": [
    {
     "data": {
      "text/plain": [
       "7.953950811093668e-05"
      ]
     },
     "execution_count": 302,
     "metadata": {},
     "output_type": "execute_result"
    }
   ],
   "source": [
    "209 / P0"
   ]
  },
  {
   "cell_type": "code",
   "execution_count": 300,
   "metadata": {},
   "outputs": [
    {
     "name": "stdout",
     "output_type": "stream",
     "text": [
      "902\n",
      "0.00902\n"
     ]
    }
   ],
   "source": [
    "import random\n",
    "from typing import List, Tuple\n",
    "\n",
    "def generate_groups(n: int, k: int) -> List[List[int]]:\n",
    "    elements = list(range(1, n * k + 1))\n",
    "    random.shuffle(elements)\n",
    "    groups = [elements[i * k:(i + 1) * k] for i in range(n)]\n",
    "    return groups\n",
    "\n",
    "def guess_groups(n: int, k: int) -> List[List[int]]:\n",
    "    elements = list(range(1, n * k + 1))\n",
    "    random.shuffle(elements)\n",
    "    groups = [elements[i * k:(i + 1) * k] for i in range(n)]\n",
    "    return groups\n",
    "\n",
    "def count_correct_groups(actual_groups: List[List[int]], guessed_groups: List[List[int]]) -> int:\n",
    "    actual_sets = [set(group) for group in actual_groups]\n",
    "    guessed_sets = [set(group) for group in guessed_groups]\n",
    "    correct_count = sum(1 for guessed_set in guessed_sets if guessed_set in actual_sets)\n",
    "    return correct_count\n",
    "\n",
    "# Example usage\n",
    "n, k = 4, 4\n",
    "actual_groups = generate_groups(n, k)\n",
    "\n",
    "N = 100000\n",
    "count = 0\n",
    "for _ in range(N):\n",
    "    guessed_groups = guess_groups(n, k)\n",
    "    correct_groups_count = count_correct_groups(actual_groups, guessed_groups)\n",
    "    if correct_groups_count > 0:\n",
    "        count += 1\n",
    "\n",
    "print(count)\n",
    "print(count / N)\n",
    "\n"
   ]
  },
  {
   "cell_type": "code",
   "execution_count": 295,
   "metadata": {},
   "outputs": [
    {
     "data": {
      "text/plain": [
       "0.853"
      ]
     },
     "execution_count": 295,
     "metadata": {},
     "output_type": "execute_result"
    }
   ],
   "source": [
    "0.00853 * 100"
   ]
  },
  {
   "cell_type": "code",
   "execution_count": 12,
   "metadata": {},
   "outputs": [
    {
     "data": {
      "text/plain": [
       "63063000"
      ]
     },
     "execution_count": 12,
     "metadata": {},
     "output_type": "execute_result"
    }
   ],
   "source": [
    "1820*495*70*1"
   ]
  },
  {
   "cell_type": "code",
   "execution_count": 8,
   "metadata": {},
   "outputs": [
    {
     "data": {
      "text/plain": [
       "63063000"
      ]
     },
     "execution_count": 8,
     "metadata": {},
     "output_type": "execute_result"
    }
   ],
   "source": [
    "binom(16,4)*binom(12,4)*binom(8,4)*binom(4,4)"
   ]
  }
 ],
 "metadata": {
  "kernelspec": {
   "display_name": "bots",
   "language": "python",
   "name": "python3"
  },
  "language_info": {
   "codemirror_mode": {
    "name": "ipython",
    "version": 3
   },
   "file_extension": ".py",
   "mimetype": "text/x-python",
   "name": "python",
   "nbconvert_exporter": "python",
   "pygments_lexer": "ipython3",
   "version": "3.9.16"
  }
 },
 "nbformat": 4,
 "nbformat_minor": 2
}
